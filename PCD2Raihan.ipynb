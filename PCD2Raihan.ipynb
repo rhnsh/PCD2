{
  "nbformat": 4,
  "nbformat_minor": 0,
  "metadata": {
    "colab": {
      "provenance": []
    },
    "kernelspec": {
      "name": "python3",
      "display_name": "Python 3"
    },
    "language_info": {
      "name": "python"
    }
  },
  "cells": [
    {
      "cell_type": "code",
      "source": [
        "from google.colab import drive\n",
        "drive.mount('/content/drive')"
      ],
      "metadata": {
        "colab": {
          "base_uri": "https://localhost:8080/"
        },
        "id": "DCqJrLol4yQl",
        "outputId": "25f48c3d-f60a-48d6-9f93-eedfc58cd247"
      },
      "execution_count": 3,
      "outputs": [
        {
          "output_type": "stream",
          "name": "stdout",
          "text": [
            "Mounted at /content/drive\n"
          ]
        }
      ]
    },
    {
      "cell_type": "code",
      "source": [
        "import numpy as np\n",
        "import cv2\n",
        "import os\n",
        "\n",
        "# Correct paths (escape backslashes or use raw strings)\n",
        "paths = [\n",
        "    r\"/content/drive/My Drive/Semester 5/PCD/daun pepaya.jfif\",\n",
        "    r\"/content/drive/My Drive/Semester 5/PCD/daun singkong.jfif\",\n",
        "    r\"/content/drive/My Drive/Semester 5/PCD/daun kenikir.jfif\"\n",
        "]\n",
        "\n",
        "# Memproses setiap gambar\n",
        "def process_image(path):\n",
        "    # Membaca gambar\n",
        "    image_source = cv2.imread(path)\n",
        "\n",
        "    if image_source is None:\n",
        "        print(f\"Error: Gambar {path} tidak ditemukan atau gagal dibaca!\")\n",
        "        return\n",
        "\n",
        "    # Memisahkan channel RGB\n",
        "    red_ch = image_source[:, :, 2]  # OpenCV uses BGR by default\n",
        "    green_ch = image_source[:, :, 1]\n",
        "    blue_ch = image_source[:, :, 0]\n",
        "\n",
        "    # Membuat gambar untuk setiap channel\n",
        "    image_red = np.zeros_like(image_source)\n",
        "    image_green = np.zeros_like(image_source)\n",
        "    image_blue = np.zeros_like(image_source)\n",
        "\n",
        "    image_red[:, :, 2] = red_ch\n",
        "    image_green[:, :, 1] = green_ch\n",
        "    image_blue[:, :, 0] = blue_ch\n",
        "\n",
        "    # Konversi ke grayscale\n",
        "    image_grayscale = cv2.cvtColor(image_source, cv2.COLOR_BGR2GRAY)\n",
        "\n",
        "    # Konversi ke threshold (biner)\n",
        "    _, image_threshold = cv2.threshold(image_grayscale, 127, 255, cv2.THRESH_BINARY)\n",
        "\n",
        "    # Membuat nama file tanpa ekstensi untuk penyimpanan\n",
        "    file_name = os.path.basename(path).split('.')[0]\n",
        "\n",
        "    # Simpan gambar hasil representasi setiap channel dan konversi\n",
        "    cv2.imwrite(f\"{file_name}_red.jpg\", image_red)\n",
        "    cv2.imwrite(f\"{file_name}_green.jpg\", image_green)\n",
        "    cv2.imwrite(f\"{file_name}_blue.jpg\", image_blue)\n",
        "    cv2.imwrite(f\"{file_name}_grayscale.jpg\", image_grayscale)\n",
        "    cv2.imwrite(f\"{file_name}_threshold.jpg\", image_threshold)\n",
        "\n",
        "    print(f\"Gambar {file_name} telah diproses.\")\n",
        "\n",
        "# Proses semua gambar satu per satu\n",
        "for path in paths:\n",
        "    process_image(path)\n",
        "\n",
        "print(\"Selesai!\")\n"
      ],
      "metadata": {
        "colab": {
          "base_uri": "https://localhost:8080/"
        },
        "id": "c69A39AR4-9f",
        "outputId": "3f93135a-8af2-474b-9ee1-533f1ed5417f"
      },
      "execution_count": 4,
      "outputs": [
        {
          "output_type": "stream",
          "name": "stdout",
          "text": [
            "Gambar daun pepaya telah diproses.\n",
            "Gambar daun singkong telah diproses.\n",
            "Gambar daun kenikir telah diproses.\n",
            "Selesai!\n"
          ]
        }
      ]
    }
  ]
}